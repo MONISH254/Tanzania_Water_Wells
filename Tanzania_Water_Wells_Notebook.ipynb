{
 "cells": [
  {
   "cell_type": "markdown",
   "id": "bc04da19-5f4d-4453-9717-e65ef0abd099",
   "metadata": {},
   "source": [
    "\n",
    "# Project Overview\n",
    "\n",
    "Tanzania, with a population of over 57 million, faces significant challenges in providing access to clean water, a fundamental need for its citizens. The country has numerous water points spread across its vast landscape, but many of these wells have deteriorated over time. Some are fully functional, others require repair, and some have failed completely. This project focuses on building a classifier to predict the condition of these water wells, leveraging various data points such as the type of pump used, installation dates, geographic location, and other relevant factors. The outcome of this model will be crucial for organizations like NGOs and the Tanzanian government to prioritize and allocate resources effectively, ensuring better water access for the population.\n",
    "\n",
    "# Business Understanding\n",
    "\n",
    "Ensuring the functionality of water wells is critical to providing safe and clean water to communities, particularly in a developing country like Tanzania. The failure of these water points can have severe consequences, leading to water scarcity, poor hygiene, and health issues. For stakeholders such as the Tanzanian government and NGOs, understanding the factors that contribute to the deterioration of wells can drive strategic decisions, such as where to allocate repair resources or how to design more durable wells in the future. This project aims to address this need by developing a predictive model that can classify the condition of wells, enabling these stakeholders to act proactively in maintaining water accessibility.\n",
    "\n",
    "# Objectives\n",
    "\n",
    "The overarching goal of this project is to develop a robust and accurate classification model that can predict the condition of water wells in Tanzania. This model will assist in identifying wells that are likely to fail, enabling stakeholders to take preventive measures. By understanding the key factors influencing well functionality, the project will also provide insights that can be used to improve the design and maintenance of future water points. Ultimately, this project seeks to contribute to a more reliable water supply infrastructure in Tanzania, improving the quality of life for its residents.\n",
    "\n",
    "## Main Objectives\n",
    "\n",
    "The main objectives of this project include:\n",
    "\n",
    "1. Analyzing the data to identify the most significant factors contributing to the condition of the wells.\n",
    "2. Building a predictive model that can classify water wells into one of three categories: functional, in need of repair, or non-functional.\n",
    "3. Providing actionable insights and recommendations to stakeholders, such as NGOs and the Tanzanian government, to guide their efforts in maintaining and improving water well infrastructure.\n",
    "\n",
    "## Specific Objectives\n",
    "\n",
    "To achieve the main objectives, the project will focus on the following specific objectives:\n",
    "\n",
    "1. Conducting exploratory data analysis (EDA) to uncover patterns and relationships within the data.\n",
    "2. Developing and fine-tuning a machine learning model for classification to predict well conditions.\n",
    "3. Evaluating the model's performance using appropriate metrics to ensure accuracy and reliability.\n",
    "4. Interpreting the model's results to provide clear, actionable recommendations for stakeholders.\n",
    "\n",
    "# Data Understanding\n",
    "\n",
    "The dataset for this project comprises detailed information on water wells across Tanzania, including variables such as; the type of pump installed, the year of installation, and the geographic coordinates of each well. Additional features may include the depth of the well, the source of water, and the materials used in construction. Understanding the distribution of these features and their potential impact on well functionality is crucial for building an effective classification model. "
   ]
  },
  {
   "cell_type": "markdown",
   "id": "74bcfa7e-264b-4b50-a534-d57ccccfaed5",
   "metadata": {},
   "source": [
    "#### Importing the necessary datasets"
   ]
  },
  {
   "cell_type": "code",
   "execution_count": null,
   "id": "cc6fd389-2a8c-4451-a2c7-0c6bed330606",
   "metadata": {},
   "outputs": [],
   "source": [
    "#Importing the necessary libraries\n",
    "import pandas as pd\n",
    "import numpy as np\n",
    "from sklearn.model_selection import train_test_split\n",
    "from sklearn.preprocessing import LabelEncoder, StandardScaler, OneHotEncoder\n",
    "from sklearn.ensemble import RandomForestClassifier\n",
    "from sklearn.metrics import classification_report, confusion_matrix\n",
    "from sklearn.pipeline import Pipeline\n",
    "from sklearn.compose import ColumnTransformer\n",
    "import category_encoders as ce\n",
    "import matplotlib.pyplot as plt\n",
    "import seaborn as sns\n",
    "from sklearn.impute import SimpleImputer\n",
    "from sklearn.feature_selection import SelectKBest, f_classif\n",
    "from sklearn.model_selection import train_test_split\n",
    "from sklearn.linear_model import LogisticRegression\n",
    "from sklearn.metrics import classification_report, accuracy_score\n",
    "from sklearn.svm import SVC\n",
    "from xgboost import XGBClassifier\n",
    "from lightgbm import LGBMClassifier\n",
    "from sklearn.metrics import accuracy_score, classification_report, confusion_matrix\n",
    "from sklearn.preprocessing import RobustScaler\n",
    "from sklearn.pipeline import Pipeline\n",
    "from category_encoders import WOEEncoder\n",
    "from sklearn.tree import DecisionTreeClassifier\n",
    "from sklearn.ensemble import ExtraTreesClassifier\n",
    "import xgboost as xgb\n",
    "from sklearn.neighbors import KNeighborsClassifier\n",
    "import lightgbm as lgb\n",
    "from sklearn.metrics import accuracy_score, precision_score, recall_score, f1_score, roc_auc_score\n",
    "from sklearn.model_selection import GridSearchCV\n"
   ]
  },
  {
   "cell_type": "markdown",
   "id": "699f06ce-795e-47a0-ae93-f6b454a11d90",
   "metadata": {},
   "source": [
    "#### Loading the Datasets"
   ]
  },
  {
   "cell_type": "code",
   "execution_count": null,
   "id": "bdcb0d54-0505-4c1a-9d65-64fa2122e8af",
   "metadata": {},
   "outputs": [],
   "source": [
    "# Import the necessary datasets\n",
    "df_training_labels = pd.read_csv('Data\\Training_Labels.csv', index_col= 0)\n",
    "df_training_values = pd.read_csv('Data\\Training_values.csv', index_col = 0)\n",
    "df_test_values = pd.read_csv('Data\\Test_set.csv', index_col = 0)"
   ]
  },
  {
   "cell_type": "markdown",
   "id": "e2077446-63b1-4b3e-b5ba-c55613007058",
   "metadata": {},
   "source": [
    "#### Inspecting the data"
   ]
  },
  {
   "cell_type": "code",
   "execution_count": null,
   "id": "a11d1106-5f87-418f-84ea-e8c3f204de77",
   "metadata": {},
   "outputs": [],
   "source": [
    "# Getting a preview of the first 5 rows of the training labels data\n",
    "df_training_labels.head()"
   ]
  },
  {
   "cell_type": "code",
   "execution_count": null,
   "id": "c510b318-77ec-4f7a-ba47-00c9bec6a7ae",
   "metadata": {},
   "outputs": [],
   "source": [
    "# Getting a preview of the first 5 rows of the training values data\n",
    "df_training_values.head()"
   ]
  },
  {
   "cell_type": "markdown",
   "id": "2342047e-1d5a-4f86-ba68-3a0e602e438f",
   "metadata": {},
   "source": [
    "#### Merging the data"
   ]
  },
  {
   "cell_type": "code",
   "execution_count": null,
   "id": "7993f59e-ba1a-4493-8b13-d9318f9c6a39",
   "metadata": {},
   "outputs": [],
   "source": [
    "# merging the training values and training labels dataset\n",
    "df_training_set = df_training_values.merge(df_training_labels, on = \"id\")\n",
    "\n",
    "# Getting a preview of the first 5 rows of the merged data\n",
    "df_training_set.head()"
   ]
  },
  {
   "cell_type": "markdown",
   "id": "48895b92-0731-4d10-83b3-ae47e7bddd0f",
   "metadata": {},
   "source": [
    "#### Inspecting the merged data"
   ]
  },
  {
   "cell_type": "code",
   "execution_count": null,
   "id": "76ac5b99-7a3b-4664-8850-44b332f98125",
   "metadata": {},
   "outputs": [],
   "source": [
    "# Getting a summary of the dataset\n",
    "df_training_set.info()"
   ]
  },
  {
   "cell_type": "code",
   "execution_count": null,
   "id": "3b1c7a1b-f62f-4e45-a676-a6b42c09f889",
   "metadata": {},
   "outputs": [],
   "source": [
    "# Checking the shape of the dataset\n",
    "df_training_set.shape"
   ]
  },
  {
   "cell_type": "code",
   "execution_count": null,
   "id": "a1321be4-0dcd-44e2-9a10-db77ccff78ab",
   "metadata": {},
   "outputs": [],
   "source": [
    "# Getting the statistics of numerical columns\n",
    "df_training_set.describe()"
   ]
  },
  {
   "cell_type": "markdown",
   "id": "cedd53a9-d12a-437e-b099-d237655f8ed2",
   "metadata": {},
   "source": [
    "# Data Cleaning"
   ]
  },
  {
   "cell_type": "markdown",
   "id": "4d89ee90-b629-4652-9a3d-686ce857524c",
   "metadata": {},
   "source": [
    "#### Dropping columns with information that is not relevant to prediction"
   ]
  },
  {
   "cell_type": "code",
   "execution_count": null,
   "id": "82ce8ad9-8365-4cf8-b71b-3b6a4a170ab9",
   "metadata": {},
   "outputs": [],
   "source": [
    "# Identify columns with similar information\n",
    "similar_columns = {\n",
    "    'extraction_type': ['extraction_type_group', 'extraction_type_class'],\n",
    "    'management': ['management_group'],\n",
    "    'payment': ['payment_type'],\n",
    "    'water_quality': ['quality_group'],\n",
    "    'quantity': ['quantity_group'],\n",
    "    'source': ['source_type', 'source_class'],\n",
    "    'waterpoint_type': ['waterpoint_type_group']\n",
    "}\n",
    "\n",
    "# Drop the redundant columns, retaining only the first column of each group\n",
    "columns_to_drop = [col for group in similar_columns.values() for col in group]\n",
    "df_training_set = df_training_set.drop(columns=columns_to_drop)\n",
    "\n",
    "# Dropping columns with information that is not relevant for prediction\n",
    "df_training_set = df_training_set.drop(columns=['wpt_name','subvillage','num_private', 'recorded_by'])\n",
    "\n",
    "# Display the shape of the resultant dataframe\n",
    "df_training_set.shape"
   ]
  },
  {
   "cell_type": "markdown",
   "id": "491d1374-0a40-4953-8e11-411184d2aa9a",
   "metadata": {},
   "source": [
    "#### Handling Missing Data "
   ]
  },
  {
   "cell_type": "code",
   "execution_count": null,
   "id": "01faa2a6-7918-4909-b0c7-afdff36f6bea",
   "metadata": {},
   "outputs": [],
   "source": [
    "# Checking for missing values\n",
    "total_values = 59400\n",
    "missing_values = df_training_set.isnull().sum()\n",
    "\n",
    "# Getting the percentage of missing values in each column\n",
    "missing_percentage = (missing_values/total_values)*100\n",
    "missing_percentage"
   ]
  },
  {
   "cell_type": "code",
   "execution_count": null,
   "id": "1bb94397-5ff3-475f-be6d-e0150c7bb79c",
   "metadata": {},
   "outputs": [],
   "source": [
    "#Dropping columns where the percentange of missing values is more than 20\n",
    "columns_to_drop = missing_percentage[missing_percentage > 20].index\n",
    "df_training_set = df_training_set.drop(columns=columns_to_drop)\n",
    "\n",
    "# Impute specific columns with 'Unknown'\n",
    "df_training_set[['scheme_management', 'funder', 'installer']] = df_training_set[['scheme_management', 'funder', 'installer']].fillna('Unknown')\n",
    "\n",
    "# Create imputers for numerical and categorical features\n",
    "numerical_imputer = SimpleImputer(strategy='median')  # For numerical columns\n",
    "categorical_imputer = SimpleImputer(strategy='most_frequent')  # For categorical columns\n",
    "\n",
    "# Impute numerical features\n",
    "df_training_set[['population']] = numerical_imputer.fit_transform(df_training_set[['population']])\n",
    "\n",
    "# Impute categorical features\n",
    "df_training_set[['permit', 'public_meeting']] = categorical_imputer.fit_transform(df_training_set[['permit', 'public_meeting']])\n",
    "\n",
    "# Checking for missing values\n",
    "df_training_set.isnull().sum()"
   ]
  },
  {
   "cell_type": "markdown",
   "id": "72841260-8ff6-4f42-8e62-6aaa4f2c9f93",
   "metadata": {},
   "source": [
    "#### Checking for duplicates"
   ]
  },
  {
   "cell_type": "code",
   "execution_count": null,
   "id": "f674c2b2-7de2-4401-8ece-97a1db0c0718",
   "metadata": {},
   "outputs": [],
   "source": [
    "# Identify duplicated index values\n",
    "duplicated_index = df_training_set.index.duplicated()\n",
    "\n",
    "# Display the rows with duplicated index values\n",
    "duplicate_rows = df_training_set[duplicated_index]\n",
    "duplicate_rows"
   ]
  },
  {
   "cell_type": "markdown",
   "id": "5f9a3f95-9e50-4092-8a71-7e092e3b0028",
   "metadata": {},
   "source": [
    "#### Converting Datatypes"
   ]
  },
  {
   "cell_type": "code",
   "execution_count": null,
   "id": "a34ae21c-2c7f-435f-a2b9-94a491f6e368",
   "metadata": {},
   "outputs": [],
   "source": [
    "# Checking data types\n",
    "df_training_set.dtypes"
   ]
  },
  {
   "cell_type": "code",
   "execution_count": null,
   "id": "f941b39d-a897-42ad-9bf9-d8eee232f7a0",
   "metadata": {},
   "outputs": [],
   "source": [
    "# Fixing the datatypes\n",
    "df_training_set['date_recorded'] = pd.to_datetime(df_training_set['date_recorded'], format='%d/%m/%Y')"
   ]
  },
  {
   "cell_type": "markdown",
   "id": "52d67603-ba4f-4e1a-b4f0-bdf7b67677d7",
   "metadata": {},
   "source": [
    "#### Fixing Spelling mistakes in the installer column"
   ]
  },
  {
   "cell_type": "code",
   "execution_count": null,
   "id": "a6a4c52e-466b-4d87-a5e3-99db2cad8c7e",
   "metadata": {},
   "outputs": [],
   "source": [
    "df_training_set['installer'] = df_training_set['installer'].replace(to_replace=('District Water Department', 'District water depar', 'Distric Water Department'),value='District water department')\n",
    "\n",
    "df_training_set['installer'] = df_training_set['installer'].replace(to_replace=('FinW', 'Fini water', 'FINI WATER'), value='Fini Water')\n",
    "\n",
    "df_training_set['installer'] = df_training_set['installer'].replace(to_replace='JAICA',value='Jaica')\n",
    "\n",
    "df_training_set['installer'] = df_training_set['installer'].replace(to_replace=('COUN', 'District COUNCIL', 'DISTRICT COUNCIL', 'District Counci','District Council', 'Council', 'Counc', 'District  Council', 'Distri'),value='District council')\n",
    "\n",
    "df_training_set['installer'] = df_training_set['installer'].replace(to_replace=('RC CHURCH', 'RC Churc', 'RC', 'RC Ch', 'RC C', 'RC CH', 'RC church','RC CATHORIC'),value='RC Church')\n",
    "\n",
    "df_training_set['installer'] = df_training_set['installer'].replace(to_replace=('Central Government', 'Tanzania Government','central government', 'Cental Government', 'Cebtral Government','Tanzanian Government', 'Tanzania government', 'Centra Government','CENTRAL GOVERNMENT', 'TANZANIAN GOVERNMENT', 'Central govt', 'Centr','Centra govt'), value='Central government')\n",
    "\n",
    "df_training_set['installer'] = df_training_set['installer'].replace(to_replace=('World vision', 'World Division', 'World Vision'),value='world vision')\n",
    "\n",
    "df_training_set['installer'] = df_training_set['installer'].replace(to_replace=('Unisef', 'UNICEF'),value='Unicef')\n",
    "\n",
    "df_training_set['installer'] = df_training_set['installer'].replace(to_replace='DANID',value='DANIDA')\n",
    "\n",
    "df_training_set['installer'] = df_training_set['installer'].replace(to_replace=('villigers', 'villager', 'Villagers', 'Villa', 'Village', 'Villi','Village Council', 'Village Counil', 'Villages', 'Vill', 'Village community', 'Villaers', 'Village Community', 'Villag', 'Villege Council', 'Village council','Village  Council', 'Villagerd', 'Villager', 'Village Technician','Village Office', 'Village community members'),value='villagers')\n",
    "\n",
    "df_training_set['installer'] = df_training_set['installer'].replace(to_replace=('Commu', 'Communit', 'commu', 'COMMU', 'COMMUNITY'),value='Community')\n",
    "\n",
    "df_training_set['installer'] = df_training_set['installer'].replace(to_replace=('GOVERNMENT', 'GOVER', 'GOVERNME', 'GOVERM', 'GOVERN', 'Gover', 'Gove','Governme', 'Governmen'),value='Government')\n",
    "\n",
    "df_training_set['installer'] = df_training_set['installer'].replace(to_replace='Hesawa',value='HESAWA')\n",
    "\n",
    "df_training_set['installer'] = df_training_set['installer'].replace(to_replace=('Colonial Government'),value='Colonial government')\n",
    "\n",
    "df_training_set['installer'] = df_training_set['installer'].replace(to_replace=('Government of Misri'),value='Misri Government')\n",
    "\n",
    "df_training_set['installer'] = df_training_set['installer'].replace(to_replace=('Italy government'),value='Italian government')\n",
    "\n",
    "df_training_set['installer'] = df_training_set['installer'].replace(to_replace=('British colonial government'),value='British government')\n",
    "\n",
    "df_training_set['installer'] = df_training_set['installer'].replace(to_replace=('Concern /government'),value='Concern/Government')\n",
    "\n",
    "df_training_set['installer'] = df_training_set['installer'].replace(to_replace=('Village Government'),value='Village government')\n",
    "\n",
    "df_training_set['installer'] = df_training_set['installer'].replace(to_replace=('Government and Community'),value='Government /Community')\n",
    "\n",
    "df_training_set['installer'] = df_training_set['installer'].replace(to_replace=('Cetral government /RC'),value='RC church/Central Gover')\n",
    "\n",
    "df_training_set['installer'] = df_training_set['installer'].replace(to_replace=('Government /TCRS', 'Government/TCRS'),value='TCRS /Government')\n",
    "\n",
    "df_training_set['installer'] = df_training_set['installer'].replace(to_replace=('ADRA /Government'),value='ADRA/Government')"
   ]
  },
  {
   "cell_type": "code",
   "execution_count": null,
   "id": "e57dc445-33eb-46fb-a77c-28b5fdd0c231",
   "metadata": {},
   "outputs": [],
   "source": [
    "df_training_set[\"installer\"].value_counts()"
   ]
  },
  {
   "cell_type": "markdown",
   "id": "4b7b3d3a-7818-4436-badd-bc38f6dcba0f",
   "metadata": {},
   "source": [
    "#### Looking into the population column"
   ]
  },
  {
   "cell_type": "code",
   "execution_count": null,
   "id": "d4a79143-ee18-4458-8918-cc15c4c138b7",
   "metadata": {},
   "outputs": [],
   "source": [
    "df_training_set[\"population\"].value_counts()"
   ]
  },
  {
   "cell_type": "code",
   "execution_count": null,
   "id": "e2dea819-2e35-4304-8d2e-95c916e39d5c",
   "metadata": {},
   "outputs": [],
   "source": [
    "df_training_set.loc[df_training_set['population']==0].groupby('status_group')['population'].count()"
   ]
  },
  {
   "cell_type": "markdown",
   "id": "053b2f29-dee5-4a82-a063-c2748f598641",
   "metadata": {},
   "source": [
    "Population of zero where the are functional wells indicates missing values"
   ]
  },
  {
   "cell_type": "code",
   "execution_count": null,
   "id": "8adb7b69-e328-4d41-b0c7-3135414cf640",
   "metadata": {},
   "outputs": [],
   "source": [
    "df_training_set[df_training_set['population']!= 0].describe()"
   ]
  },
  {
   "cell_type": "markdown",
   "id": "f0841a85-8ff9-41ae-adb6-7f32fab4aca0",
   "metadata": {},
   "source": [
    "The median of the population column without zeros is 150. We shall impute the zeros with the median"
   ]
  },
  {
   "cell_type": "code",
   "execution_count": null,
   "id": "164d9b4b-c35e-49f4-a524-83e83010335a",
   "metadata": {},
   "outputs": [],
   "source": [
    "# Changing zeros to the median\n",
    "df_training_set['population'] = df_training_set['population'].replace(to_replace = 0 , value = 150) \n",
    "# Checking the value counts\n",
    "df_training_set['population'].value_counts()"
   ]
  },
  {
   "cell_type": "markdown",
   "id": "4ec3b54d-51aa-40ed-9829-8de67ba03422",
   "metadata": {},
   "source": [
    "#### Feature engineering\n",
    "Creating a decade column from the construction year decade"
   ]
  },
  {
   "cell_type": "code",
   "execution_count": null,
   "id": "09b70905-8e6a-4899-80bd-f62444707b04",
   "metadata": {},
   "outputs": [],
   "source": [
    "# Checking the value types of the construction column\n",
    "df_training_set['construction_year'].value_counts()"
   ]
  },
  {
   "cell_type": "code",
   "execution_count": null,
   "id": "55e19631-49ea-4aef-b6bb-c0f757a9c544",
   "metadata": {},
   "outputs": [],
   "source": [
    "# Imputing the zeros in the construction year column  with the median\n",
    "\n",
    "# Calculate the median of the non-zero values in the 'construction_year' column\n",
    "median_year = df_training_set['construction_year'].replace(0, np.nan).median()\n",
    "\n",
    "# Impute zeros with the calculated median\n",
    "df_training_set['construction_year'] = df_training_set['construction_year'].replace(0, median_year)"
   ]
  },
  {
   "cell_type": "code",
   "execution_count": null,
   "id": "7ec10847-07bd-442c-87c1-9b726faece84",
   "metadata": {},
   "outputs": [],
   "source": [
    "# Checking the value counts for the construction year column\n",
    "df_training_set['construction_year'].value_counts()"
   ]
  },
  {
   "cell_type": "code",
   "execution_count": null,
   "id": "191c5f6b-279c-48ba-818f-8c62e62a967d",
   "metadata": {},
   "outputs": [],
   "source": [
    " # Creating the decade column\n",
    "df_training_set['decade'] = df_training_set['construction_year']"
   ]
  },
  {
   "cell_type": "code",
   "execution_count": null,
   "id": "62eb210f-f72b-4eb7-ac7d-14b5a9fc235d",
   "metadata": {},
   "outputs": [],
   "source": [
    "df_training_set[\"decade\"] = df_training_set['decade'].replace(to_replace = (1960,1961,1962,1963,1964,1965,1966,1967,1968,1969),\n",
    "                        value ='60s')\n",
    "df_training_set[\"decade\"] = df_training_set['decade'].replace(to_replace = (1970,1971,1972,1973,1974,1975,1976,1977,1978,1979),\n",
    "                        value ='70s')\n",
    "df_training_set[\"decade\"] = df_training_set['decade'].replace(to_replace = (1980,1981,1982,1983,1984,1985,1986,1987,1988,1989),\n",
    "                        value ='80s')\n",
    "df_training_set[\"decade\"] = df_training_set['decade'].replace(to_replace = (1990,1991,1992,1993,1994,1995,1996,1997,1998,1999),\n",
    "                        value ='90s')\n",
    "df_training_set[\"decade\"] = df_training_set['decade'].replace(to_replace = (2000,2001,2002,2003,2004,2005,2006,2007,2008,2009),\n",
    "                        value ='00s')\n",
    "df_training_set[\"decade\"] = df_training_set['decade'].replace(to_replace = (2010,2011,2012,2013),\n",
    "                        value ='10s')"
   ]
  },
  {
   "cell_type": "code",
   "execution_count": null,
   "id": "9fe58e7b-ee58-4a16-9cfe-3ee0b690557e",
   "metadata": {},
   "outputs": [],
   "source": [
    "df_training_set['decade'].value_counts() "
   ]
  },
  {
   "cell_type": "code",
   "execution_count": null,
   "id": "5fddf816-04d5-4535-a336-97cf650a0c58",
   "metadata": {},
   "outputs": [],
   "source": [
    "# Dropping unnecessary columns\n",
    "df_training_set = df_training_set.drop(columns = [\"date_recorded\"])"
   ]
  },
  {
   "cell_type": "code",
   "execution_count": null,
   "id": "ac071111-fda8-468e-a1fa-bac1b7294fe4",
   "metadata": {},
   "outputs": [],
   "source": [
    "# Preview of the resultant dataframe\n",
    "train_data = df_training_set\n",
    "train_data.head()"
   ]
  },
  {
   "cell_type": "code",
   "execution_count": null,
   "id": "bcb50862-85fc-41fd-808a-f8cba1cd7059",
   "metadata": {},
   "outputs": [],
   "source": [
    "train_data.to_csv('cleaned_data.csv', index=False)"
   ]
  },
  {
   "cell_type": "markdown",
   "id": "7ccdc20f-07d7-4dd3-86a9-e7e55e2f93b4",
   "metadata": {},
   "source": [
    "# Exploratory Data Analysis"
   ]
  },
  {
   "cell_type": "markdown",
   "id": "93402a4d-17b7-4e09-957f-dc57cd551961",
   "metadata": {},
   "source": [
    "## Univariate analysis"
   ]
  },
  {
   "cell_type": "markdown",
   "id": "bc7a7508-a427-496e-8546-82e1ca435897",
   "metadata": {},
   "source": [
    "### Distribution of Well Conditions"
   ]
  },
  {
   "cell_type": "code",
   "execution_count": null,
   "id": "63c7d199-5522-40ea-9c69-f2f318800d3c",
   "metadata": {},
   "outputs": [],
   "source": [
    "plt.figure(figsize=(8, 6))\n",
    "status_counts = train_data['status_group'].value_counts()\n",
    "plt.pie(status_counts, labels=status_counts.index, autopct='%1.1f%%', colors=plt.get_cmap('Set2').colors)\n",
    "plt.title('Percentage Distribution of Water Well Status')\n",
    "plt.show()"
   ]
  },
  {
   "cell_type": "markdown",
   "id": "112c104f-9ac6-4d33-86cb-20824e01b58d",
   "metadata": {},
   "source": [
    "54.3% of the Water wells are functional, 38.4% are non functional and 7.3% need repair."
   ]
  },
  {
   "cell_type": "markdown",
   "id": "9e22e0d2-28d7-47a1-bdaf-e30410381330",
   "metadata": {},
   "source": [
    "### Distribution of Water Quality"
   ]
  },
  {
   "cell_type": "code",
   "execution_count": null,
   "id": "a5d3544d-e735-4967-b940-94f39f87c7b2",
   "metadata": {},
   "outputs": [],
   "source": [
    "sns.countplot(x='water_quality', data= train_data)\n",
    "plt.title('Distribution of Water Quality')\n",
    "plt.xticks(rotation=45, ha='right')\n",
    "plt.show()"
   ]
  },
  {
   "cell_type": "markdown",
   "id": "0dc7b020-1372-4676-9c9b-06eaa44f9a44",
   "metadata": {},
   "source": [
    "### Top Ten Funders"
   ]
  },
  {
   "cell_type": "code",
   "execution_count": null,
   "id": "1ee572eb-2016-4946-9e42-d5ce4e14f51f",
   "metadata": {},
   "outputs": [],
   "source": [
    "plt.figure(figsize=(10, 6))\n",
    "train_data['funder'].value_counts().head(10).plot(kind='bar')\n",
    "plt.title('Top 10 Funders')\n",
    "plt.xlabel('Funder')\n",
    "plt.ylabel('Count')\n",
    "plt.xticks(rotation =45 , ha='right')\n",
    "plt.show()"
   ]
  },
  {
   "cell_type": "markdown",
   "id": "23e21d65-cac4-47f6-a567-8f62406a116c",
   "metadata": {},
   "source": [
    "### Pump Type distribution"
   ]
  },
  {
   "cell_type": "code",
   "execution_count": null,
   "id": "6ae8d20a-f34d-4071-a52c-924eafbf2872",
   "metadata": {},
   "outputs": [],
   "source": [
    "plt.figure(figsize=(26,10))\n",
    "sns.countplot(x='extraction_type', data= train_data)\n",
    "plt.title('Distribution of Pump Types')\n",
    "plt.show()"
   ]
  },
  {
   "cell_type": "markdown",
   "id": "1248cd4f-3ff3-451e-9475-200f325d4088",
   "metadata": {},
   "source": [
    "### Geographical distribution of wells"
   ]
  },
  {
   "cell_type": "code",
   "execution_count": null,
   "id": "f6f41f43-5a89-46fc-a7f4-2477f092a756",
   "metadata": {},
   "outputs": [],
   "source": [
    "plt.figure(figsize=(12, 8))\n",
    "plt.scatter(train_data['longitude'], train_data['latitude'], c= train_data['status_group'].astype('category').cat.codes, alpha=0.5)\n",
    "plt.title('Geographical Distribution of Wells')\n",
    "plt.xlabel('Longitude')\n",
    "plt.ylabel('Latitude')\n",
    "plt.colorbar(label='Status Group')\n",
    "plt.show()"
   ]
  },
  {
   "cell_type": "markdown",
   "id": "e8543a79-e610-4c2b-abcb-dd0272ae70fc",
   "metadata": {},
   "source": [
    "## Bivariate Analysis"
   ]
  },
  {
   "cell_type": "markdown",
   "id": "a7c9a322-528d-4c53-a9a8-bf240db816d4",
   "metadata": {},
   "source": [
    "### Pump Type vs Well Condition"
   ]
  },
  {
   "cell_type": "code",
   "execution_count": null,
   "id": "00b1bbee-b974-44ae-91a9-13b3db58809a",
   "metadata": {},
   "outputs": [],
   "source": [
    "plt.figure(figsize=(26,12))\n",
    "sns.countplot(x='extraction_type', hue='status_group', data= train_data)\n",
    "plt.title('Pump Type vs Well Condition')\n",
    "plt.show()"
   ]
  },
  {
   "cell_type": "markdown",
   "id": "7844ab14-fca8-4160-ad30-9d43f1774fbe",
   "metadata": {},
   "source": [
    "#### Water Quality VS Well Condition"
   ]
  },
  {
   "cell_type": "code",
   "execution_count": null,
   "id": "3fd9e256-c336-436c-9ad0-dac8e8579c44",
   "metadata": {},
   "outputs": [],
   "source": [
    "plt.figure(figsize=(26,12))\n",
    "sns.countplot(x='water_quality', hue='status_group', data= train_data)\n",
    "plt.title('Water Quality vs Well Condition')\n",
    "plt.show()"
   ]
  },
  {
   "cell_type": "markdown",
   "id": "88c2f8e8-cd76-430c-9773-dd8547085fba",
   "metadata": {},
   "source": [
    "#### Region Vs Well Condition"
   ]
  },
  {
   "cell_type": "code",
   "execution_count": null,
   "id": "282f32df-a285-4797-b4f9-2c4c31b1b26f",
   "metadata": {},
   "outputs": [],
   "source": [
    "plt.figure(figsize=(26,10))\n",
    "sns.countplot(x='region', hue='status_group', data= train_data)\n",
    "plt.title('Region vs Well Condition')\n",
    "plt.show()"
   ]
  },
  {
   "cell_type": "markdown",
   "id": "7d6b21be-31cd-47b1-95e3-52168f8dd5e5",
   "metadata": {},
   "source": [
    "## Multivariate Analysis"
   ]
  },
  {
   "cell_type": "code",
   "execution_count": null,
   "id": "41e3cee6-3468-48d8-95e9-280c27daf791",
   "metadata": {},
   "outputs": [],
   "source": [
    "correlation_matrix = train_data[['amount_tsh', 'gps_height', 'longitude', 'latitude', 'population']].corr()\n",
    "sns.heatmap(correlation_matrix, annot=True, cmap='coolwarm')\n",
    "plt.title('Correlation Matrix of Numerical Features')\n",
    "plt.show()"
   ]
  },
  {
   "cell_type": "code",
   "execution_count": null,
   "id": "843b99c7-5a1a-48be-a813-d48845d528d8",
   "metadata": {},
   "outputs": [],
   "source": [
    "train_data.dtypes"
   ]
  },
  {
   "cell_type": "markdown",
   "id": "b80cc4da-65df-4f86-87a1-800fcb3a136e",
   "metadata": {},
   "source": [
    "# Modelling"
   ]
  },
  {
   "cell_type": "markdown",
   "id": "236c3c6b-ccac-43de-98ed-2d364ed9bc1e",
   "metadata": {},
   "source": [
    "## Data preprocessing"
   ]
  },
  {
   "cell_type": "code",
   "execution_count": null,
   "id": "0f3d0118-184d-4382-b4b2-1529e63498fa",
   "metadata": {},
   "outputs": [],
   "source": [
    "# Creating a copy of the original data to preserve it\n",
    "data_df = train_data.copy()"
   ]
  },
  {
   "cell_type": "markdown",
   "id": "d132cf6d-7d3a-4fde-924f-265d27eb7788",
   "metadata": {},
   "source": [
    "#### Converting the Target variable to binary"
   ]
  },
  {
   "cell_type": "code",
   "execution_count": null,
   "id": "42401be2-634a-4769-ba91-41f93d2021af",
   "metadata": {},
   "outputs": [],
   "source": [
    "# Checking the value counts of the target variable\n",
    "data_df['status_group'].value_counts()"
   ]
  },
  {
   "cell_type": "markdown",
   "id": "386a1145-4f72-42b6-9221-84c6d8801d17",
   "metadata": {},
   "source": [
    "Converting the target variable to binary where functional and functional needs repair are 1 and non functional is 0."
   ]
  },
  {
   "cell_type": "code",
   "execution_count": null,
   "id": "6d53366f-fbf3-48e0-b30d-15e747f51694",
   "metadata": {},
   "outputs": [],
   "source": [
    "# Creating a column for the binary target. \n",
    "data_df['binary_target'] = data_df['status_group'].apply(lambda x: 1 if x in ['functional', 'functional needs repair'] else 0)\n",
    "# Checking the value_counts\n",
    "data_df['binary_target'].value_counts()"
   ]
  },
  {
   "cell_type": "markdown",
   "id": "b250b445-d77a-4d73-8872-b658e68f80da",
   "metadata": {},
   "source": [
    "#### Converting the permit and public meeting columns to boolean values"
   ]
  },
  {
   "cell_type": "code",
   "execution_count": null,
   "id": "2ac982ae-b2db-41ae-a3ad-17f5a2248ec8",
   "metadata": {},
   "outputs": [],
   "source": [
    "# Converting the permit and public meeting columns to boolean values\n",
    "data_df[['permit','public_meeting']] = data_df[['permit','public_meeting']].astype(bool).astype(int) "
   ]
  },
  {
   "cell_type": "markdown",
   "id": "5da567df-1c5b-44db-97ae-545a13f899d8",
   "metadata": {},
   "source": [
    "#### Selecting Features for the model"
   ]
  },
  {
   "cell_type": "code",
   "execution_count": null,
   "id": "d04b000d-d71a-48a1-85c4-a1709095da95",
   "metadata": {},
   "outputs": [],
   "source": [
    "# Select features for the model\n",
    "features = ['gps_height', 'longitude', 'latitude', 'basin', 'region', \n",
    "                'population', 'public_meeting', 'scheme_management', 'permit',\n",
    "                'extraction_type', 'management', 'water_quality', 'quantity', \n",
    "                'source',]\n",
    "    \n",
    "X = data_df[features]\n",
    "y = data_df['binary_target']"
   ]
  },
  {
   "cell_type": "markdown",
   "id": "1604c566-2f60-4a87-aaa9-f9969f1353b9",
   "metadata": {},
   "source": [
    "#### Scaling numerical columns and encoding categorical columns"
   ]
  },
  {
   "cell_type": "code",
   "execution_count": null,
   "id": "1f48b16b-38a2-4bef-be98-88c7f4b47786",
   "metadata": {},
   "outputs": [],
   "source": [
    "# For this process we use a Robust Scaler() and WoE encoder"
   ]
  },
  {
   "cell_type": "code",
   "execution_count": null,
   "id": "f59c4ed0-c777-416b-aba6-6ab9fdfa887a",
   "metadata": {},
   "outputs": [],
   "source": [
    " # Identify numeric and categorical columns\n",
    "numeric_features = X.select_dtypes(include=['int32','int64', 'float64']).columns\n",
    "categorical_features = X.select_dtypes(include=['object']).columns"
   ]
  },
  {
   "cell_type": "code",
   "execution_count": null,
   "id": "332b0765-76c3-4b7b-a160-4ecdc6db946d",
   "metadata": {},
   "outputs": [],
   "source": [
    "def preprocess_data(numeric_features, categorical_features):\n",
    "    # Create preprocessing steps for numeric features\n",
    "    numeric_transformer = Pipeline(steps=[('scaler', RobustScaler())])\n",
    "\n",
    "    # Create preprocessing steps for categorical features using WoE Encoder\n",
    "    categorical_transformer = Pipeline(steps=[('woe', WOEEncoder(cols=categorical_features))])\n",
    "\n",
    "    # Combine preprocessing for numeric and categorical features\n",
    "    preprocessor = ColumnTransformer(transformers=[\n",
    "        ('num', numeric_transformer, numeric_features),\n",
    "        ('cat', categorical_transformer, categorical_features)\n",
    "    ])\n",
    "    \n",
    "    return preprocessor\n",
    "\n",
    "# Use the preprocessor\n",
    "preprocessor = preprocess_data(numeric_features, categorical_features)\n"
   ]
  },
  {
   "cell_type": "markdown",
   "id": "1652d225-c58a-4035-b258-62f111770fe7",
   "metadata": {},
   "source": [
    "#### Splitting the data into the training and test set"
   ]
  },
  {
   "cell_type": "code",
   "execution_count": null,
   "id": "86bb4aee-fd5c-4edb-9ccd-ce90387c3e53",
   "metadata": {},
   "outputs": [],
   "source": [
    "# Split data into training and test sets\n",
    "X_train, X_test, y_train, y_test = train_test_split(X, y, test_size=0.2, random_state=42)\n"
   ]
  },
  {
   "cell_type": "code",
   "execution_count": null,
   "id": "f00b5231-85ee-4c4a-a5ef-be20f747f3c9",
   "metadata": {},
   "outputs": [],
   "source": [
    "# Fit and transform the training data\n",
    "X_train_preprocessed = preprocessor.fit_transform(X_train, y_train)\n",
    "\n",
    "# Transform the test data\n",
    "X_test_preprocessed = preprocessor.transform(X_test)"
   ]
  },
  {
   "cell_type": "markdown",
   "id": "5b676dfd-f93b-4fad-b61d-4b33a24dd186",
   "metadata": {},
   "source": [
    "## Model Training"
   ]
  },
  {
   "cell_type": "code",
   "execution_count": null,
   "id": "124a1e21-4244-450c-bbe5-64806a5c0c1c",
   "metadata": {},
   "outputs": [],
   "source": []
  },
  {
   "cell_type": "markdown",
   "id": "ae92e8a6-748e-4f71-93a8-fa10931cc5ba",
   "metadata": {},
   "source": [
    "### Logistic Regression model"
   ]
  },
  {
   "cell_type": "code",
   "execution_count": null,
   "id": "b48830f4-b7ed-4b74-8ac1-26369ba3a9be",
   "metadata": {},
   "outputs": [],
   "source": [
    "# Logistic Regression\n",
    "lr_model = LogisticRegression(random_state=42)\n",
    "lr_model.fit(X_train_preprocessed, y_train)\n",
    "y_pred_lr = lr_model.predict(X_test_preprocessed)\n",
    "\n",
    "# Evaluation\n",
    "print(\"Logistic Regression Accuracy:\", accuracy_score(y_test, y_pred_lr))\n",
    "print(classification_report(y_test, y_pred_lr))"
   ]
  },
  {
   "cell_type": "markdown",
   "id": "63f1c690-f5a1-4383-9651-eaf60ae32fac",
   "metadata": {},
   "source": [
    "### Decision Tree Classifier"
   ]
  },
  {
   "cell_type": "code",
   "execution_count": null,
   "id": "d5fc521f-7cf8-440e-855d-770fe3435f64",
   "metadata": {},
   "outputs": [],
   "source": [
    "# Decision Tree\n",
    "dt_model = DecisionTreeClassifier(random_state=42)\n",
    "dt_model.fit(X_train_preprocessed, y_train)\n",
    "y_pred_dt = dt_model.predict(X_test_preprocessed)\n",
    "\n",
    "# Evaluation\n",
    "print(\"Decision Tree Accuracy:\", accuracy_score(y_test, y_pred_dt))\n",
    "print(classification_report(y_test, y_pred_dt))"
   ]
  },
  {
   "cell_type": "markdown",
   "id": "27c6ef5c-826d-4c4a-b864-dc311cc218ab",
   "metadata": {},
   "source": [
    "### EXtra Trees Classifier"
   ]
  },
  {
   "cell_type": "code",
   "execution_count": null,
   "id": "65ea6f96-0244-41ab-a679-aeac3d5e2d2d",
   "metadata": {},
   "outputs": [],
   "source": [
    "# Extra Trees\n",
    "et_model = ExtraTreesClassifier(random_state=42)\n",
    "et_model.fit(X_train_preprocessed, y_train)\n",
    "y_pred_et = et_model.predict(X_test_preprocessed)\n",
    "\n",
    "# Evaluation\n",
    "print(\"Extra Trees Accuracy:\", accuracy_score(y_test, y_pred_et))\n",
    "print(classification_report(y_test, y_pred_et))"
   ]
  },
  {
   "cell_type": "markdown",
   "id": "2d862606-683c-4754-a63a-84e0795da905",
   "metadata": {},
   "source": [
    "### Random Forest Classifier"
   ]
  },
  {
   "cell_type": "code",
   "execution_count": null,
   "id": "1521f2b5-b931-4c4c-bfb0-446ae3118480",
   "metadata": {},
   "outputs": [],
   "source": [
    "# Random Forest\n",
    "rf_model = RandomForestClassifier(random_state=42)\n",
    "rf_model.fit(X_train_preprocessed, y_train)\n",
    "y_pred_rf = rf_model.predict(X_test_preprocessed)\n",
    "\n",
    "# Evaluation\n",
    "print(\"Random Forest Accuracy:\", accuracy_score(y_test, y_pred_rf))\n",
    "print(classification_report(y_test, y_pred_rf))"
   ]
  },
  {
   "cell_type": "code",
   "execution_count": null,
   "id": "ad2c8b43-f44f-4c99-82d7-c38393711b23",
   "metadata": {},
   "outputs": [],
   "source": [
    "# Random Forest with GridSearchCV\n",
    "param_grid = {\n",
    "    'n_estimators': [100, 200],\n",
    "    'max_depth': [None, 10, 20],\n",
    "    'min_samples_split': [2, 5],\n",
    "    'min_samples_leaf': [1, 2]\n",
    "}\n",
    "\n",
    "grid_search = GridSearchCV(estimator=rf_model, param_grid=param_grid, cv=5, n_jobs=-1, verbose=2)\n",
    "grid_search.fit(X_train_preprocessed, y_train)\n",
    "\n",
    "# Best model from GridSearch\n",
    "best_rf_model = grid_search.best_estimator_\n",
    "y_pred_best_rf = best_rf_model.predict(X_test_preprocessed)\n",
    "\n",
    "# Evaluation\n",
    "print(\"Random Forest with GridSearchCV Accuracy:\", accuracy_score(y_test, y_pred_best_rf))\n",
    "print(classification_report(y_test, y_pred_best_rf))\n",
    "print(\"Best Parameters found by GridSearch:\", grid_search.best_params_)"
   ]
  },
  {
   "cell_type": "markdown",
   "id": "17e9546e-69df-4ca3-b1b2-6667108e6961",
   "metadata": {},
   "source": [
    "### XGBoost"
   ]
  },
  {
   "cell_type": "code",
   "execution_count": null,
   "id": "1e865e0d-aac9-414c-bb9c-ebcf3c055861",
   "metadata": {},
   "outputs": [],
   "source": [
    "xgb_model = xgb.XGBClassifier(random_state=42)\n",
    "xgb_model.fit(X_train_preprocessed, y_train)\n",
    "y_pred_xgb = xgb_model.predict(X_test_preprocessed)\n",
    "\n",
    "# Evaluation\n",
    "print(\"XGBoost Accuracy:\", accuracy_score(y_test, y_pred_xgb))\n",
    "print(classification_report(y_test, y_pred_xgb))"
   ]
  },
  {
   "cell_type": "markdown",
   "id": "534f2ae4-1bea-4da5-a37f-13a17444cd2c",
   "metadata": {},
   "source": [
    "### K-Nearest Neighbors"
   ]
  },
  {
   "cell_type": "code",
   "execution_count": null,
   "id": "ad065f6a-6f6f-464c-9e6e-81e72627255f",
   "metadata": {},
   "outputs": [],
   "source": [
    "knn_model = KNeighborsClassifier()\n",
    "knn_model.fit(X_train_preprocessed, y_train)\n",
    "y_pred_knn = knn_model.predict(X_test_preprocessed)\n",
    "\n",
    "# Evaluation\n",
    "print(\"K-Nearest Neighbors Accuracy:\", accuracy_score(y_test, y_pred_knn))\n",
    "print(classification_report(y_test, y_pred_knn))"
   ]
  },
  {
   "cell_type": "code",
   "execution_count": null,
   "id": "c753cf59-5ca4-484c-9574-b0548ac778a3",
   "metadata": {},
   "outputs": [],
   "source": [
    "# LightGBM\n",
    "lgb_model = lgb.LGBMClassifier(random_state=42)\n",
    "lgb_model.fit(X_train_preprocessed, y_train)\n",
    "y_pred_lgb = lgb_model.predict(X_test_preprocessed)\n",
    "\n",
    "# Evaluation\n",
    "print(\"LightGBM Accuracy:\", accuracy_score(y_test, y_pred_lgb))\n",
    "print(classification_report(y_test, y_pred_lgb))"
   ]
  },
  {
   "cell_type": "markdown",
   "id": "56a5a483-226e-4c37-a82f-a9857d56bb62",
   "metadata": {},
   "source": [
    "### Model Selection "
   ]
  },
  {
   "cell_type": "code",
   "execution_count": null,
   "id": "fc1ff5b1-0ecd-468f-9256-96500a9a15f8",
   "metadata": {},
   "outputs": [],
   "source": [
    "# Initialize an empty list to store the results\n",
    "results = []\n",
    "\n",
    "# Define a function to evaluate a model and store the results\n",
    "def evaluate_model(model_name, model, X_test, y_test):\n",
    "    y_pred = model.predict(X_test)\n",
    "    y_pred_proba = model.predict_proba(X_test)[:, 1] if hasattr(model, \"predict_proba\") else None\n",
    "\n",
    "    accuracy = accuracy_score(y_test, y_pred)\n",
    "    precision = precision_score(y_test, y_pred)\n",
    "    recall = recall_score(y_test, y_pred)\n",
    "    f1 = f1_score(y_test, y_pred)\n",
    "    roc_auc = roc_auc_score(y_test, y_pred_proba) if y_pred_proba is not None else None\n",
    "\n",
    "    results.append({\n",
    "        'Model': model_name,\n",
    "        'Accuracy': accuracy,\n",
    "        'Precision': precision,\n",
    "        'Recall': recall,\n",
    "        'F1-Score': f1,\n",
    "        'ROC-AUC': roc_auc\n",
    "    })\n",
    "\n",
    "# Creating a dictionary with the models\n",
    "models = {\n",
    "    'Logistic Regression': lr_model,\n",
    "    'Decision Tree': dt_model,\n",
    "    'Extra Trees': et_model,\n",
    "    'Random Forest': rf_model,\n",
    "       'XGBoost': xgb_model,\n",
    "    'K-Nearest Neighbors': knn_model,\n",
    "    'LightGBM': lgb_model\n",
    "}\n",
    "\n",
    "# Evaluate each model and store the results\n",
    "for model_name, model in models.items():\n",
    "    evaluate_model(model_name, model, X_test_preprocessed, y_test)\n",
    "\n",
    "# Create a DataFrame with the results\n",
    "results_df = pd.DataFrame(results)\n",
    "\n",
    "# Display the results DataFrame\n",
    "results_df"
   ]
  },
  {
   "cell_type": "markdown",
   "id": "7a3bf5af-cf0d-4474-bca5-f1a4b5d716b0",
   "metadata": {},
   "source": [
    "Random Forest is considered the best model in this context because it performs exceptionally well across several key evaluation metrics:\n",
    "\n",
    "1. High Accuracy (0.848822):\n",
    "Random Forest has the highest accuracy among all the models, indicating that it consistently makes the correct predictions for both classes (functional and non-functional wells).\n",
    "\n",
    "2. Balanced Precision (0.855246) and Recall (0.907909):\n",
    "A precision of 0.855246 suggests that the model has a low rate of false positives, meaning it's good at not falsely predicting wells as functional when they are not.\n",
    "With a recall of 0.907909, Random Forest is excellent at detecting nearly all functional wells, minimizing false negatives.\n",
    "\n",
    "3. High F1-Score (0.880791):\n",
    "A high F1-score of 0.880791 suggests that Random Forest excels in both accurately predicting functional wells and identifying them correctly.\n",
    "\n",
    "4. Top ROC-AUC (0.910436):\n",
    ". A ROC-AUC of 0.910436 indicates that Random Forest is highly effective at separating the two classes, meaning it is very reliable in distinguishing between functional and non-functional wells.\n"
   ]
  },
  {
   "cell_type": "code",
   "execution_count": null,
   "id": "796998b7-ae7d-4e6c-9e6d-9634aa78380a",
   "metadata": {},
   "outputs": [],
   "source": [
    "### Hyperparameter tuning of selected model"
   ]
  },
  {
   "cell_type": "code",
   "execution_count": null,
   "id": "81c811f6-58ce-4cb2-9f94-445e18465e65",
   "metadata": {},
   "outputs": [],
   "source": []
  }
 ],
 "metadata": {
  "kernelspec": {
   "display_name": "Python 3 (ipykernel)",
   "language": "python",
   "name": "python3"
  },
  "language_info": {
   "codemirror_mode": {
    "name": "ipython",
    "version": 3
   },
   "file_extension": ".py",
   "mimetype": "text/x-python",
   "name": "python",
   "nbconvert_exporter": "python",
   "pygments_lexer": "ipython3",
   "version": "3.11.9"
  }
 },
 "nbformat": 4,
 "nbformat_minor": 5
}
